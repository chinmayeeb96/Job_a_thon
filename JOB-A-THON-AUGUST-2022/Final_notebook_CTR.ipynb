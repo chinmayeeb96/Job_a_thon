{
 "cells": [
  {
   "cell_type": "markdown",
   "id": "05676bf3",
   "metadata": {},
   "source": [
    "## Importing relevant libraries"
   ]
  },
  {
   "cell_type": "code",
   "execution_count": null,
   "id": "f513a352",
   "metadata": {},
   "outputs": [],
   "source": [
    "import numpy as np\n",
    "import pandas as pd\n",
    "import matplotlib.pyplot as plt\n",
    "import seaborn as sns\n",
    "\n",
    "%matplotlib inline\n",
    "\n",
    "import warnings as w\n",
    "w.filterwarnings(action='ignore')"
   ]
  },
  {
   "cell_type": "markdown",
   "id": "1c8dc6fa",
   "metadata": {},
   "source": [
    "## Loading the datasets"
   ]
  },
  {
   "cell_type": "code",
   "execution_count": null,
   "id": "f5ad8377",
   "metadata": {},
   "outputs": [],
   "source": [
    "train_df = pd.read_csv('train_F3fUq2S.csv')\n",
    "test_df = pd.read_csv('test_Bk2wfZ3.csv')"
   ]
  },
  {
   "cell_type": "markdown",
   "id": "8fd6307d",
   "metadata": {},
   "source": [
    "## Inspecting the datasets"
   ]
  },
  {
   "cell_type": "code",
   "execution_count": null,
   "id": "8145094f",
   "metadata": {},
   "outputs": [],
   "source": [
    "train_df.shape, test_df.shape"
   ]
  },
  {
   "cell_type": "markdown",
   "id": "51d396dc",
   "metadata": {},
   "source": [
    "#### * __We have 1888 rows and 22 columns in Train set whereas Test set has 762 rows and 21 columns.__"
   ]
  },
  {
   "cell_type": "code",
   "execution_count": null,
   "id": "e5e7fe5b",
   "metadata": {},
   "outputs": [],
   "source": [
    "# Ratio of null values of training set\n",
    "train_df.isnull().sum()/train_df.shape[0]*100"
   ]
  },
  {
   "cell_type": "code",
   "execution_count": null,
   "id": "0f566567",
   "metadata": {},
   "outputs": [],
   "source": [
    "# Ratio of null values of testing set\n",
    "test_df.isnull().sum()/test_df.shape[0]*100"
   ]
  },
  {
   "cell_type": "code",
   "execution_count": null,
   "id": "9d5decdc",
   "metadata": {},
   "outputs": [],
   "source": [
    "train_df.info()"
   ]
  },
  {
   "cell_type": "code",
   "execution_count": null,
   "id": "8344b9c1",
   "metadata": {},
   "outputs": [],
   "source": [
    "test_df.info()"
   ]
  },
  {
   "cell_type": "markdown",
   "id": "586873b5",
   "metadata": {},
   "source": [
    "### Remark\n",
    "* All the features have either int or float datatype except 'times_of_day' feature, which has object datatype\n",
    "* Both training and testing dataset does not have any null values \n"
   ]
  },
  {
   "cell_type": "markdown",
   "id": "679e7a90",
   "metadata": {},
   "source": [
    "## EDA"
   ]
  },
  {
   "cell_type": "code",
   "execution_count": null,
   "id": "31b5bd3f",
   "metadata": {},
   "outputs": [],
   "source": [
    "train_df.head(3)"
   ]
  },
  {
   "cell_type": "code",
   "execution_count": null,
   "id": "8c337d6e",
   "metadata": {},
   "outputs": [],
   "source": [
    "test_df.head(3)"
   ]
  },
  {
   "cell_type": "code",
   "execution_count": null,
   "id": "377ccf53",
   "metadata": {},
   "outputs": [],
   "source": [
    "train_df.columns\n"
   ]
  },
  {
   "cell_type": "code",
   "execution_count": null,
   "id": "06100f4c",
   "metadata": {},
   "outputs": [],
   "source": [
    "test_df.columns"
   ]
  },
  {
   "cell_type": "code",
   "execution_count": null,
   "id": "7622b1f2",
   "metadata": {},
   "outputs": [],
   "source": [
    "train_df.drop_duplicates().shape"
   ]
  },
  {
   "cell_type": "code",
   "execution_count": null,
   "id": "37028292",
   "metadata": {},
   "outputs": [],
   "source": [
    "test_df.drop_duplicates().shape"
   ]
  },
  {
   "cell_type": "code",
   "execution_count": null,
   "id": "dea5db51",
   "metadata": {},
   "outputs": [],
   "source": [
    "\n",
    "plt.hist(train_df['click_rate'])\n",
    "plt.title(\"Histogram of original target\", size=17)\n",
    "plt.xlabel(\"Click rate\", size=13)\n",
    "plt.ylabel(\"Frequencies\", size=13)\n",
    "plt.show()"
   ]
  },
  {
   "cell_type": "markdown",
   "id": "7cf1148d",
   "metadata": {},
   "source": [
    "### Changing the datatype of 'times_of_day' to categorical for error free Visualization"
   ]
  },
  {
   "cell_type": "code",
   "execution_count": null,
   "id": "1405e5fa",
   "metadata": {},
   "outputs": [],
   "source": [
    "train_df['times_of_day'].replace({'Morning':1, 'Noon':2, 'Evening':3}, inplace= True)\n",
    "test_df['times_of_day'].replace({'Morning':1, 'Noon':2, 'Evening':3}, inplace= True)"
   ]
  },
  {
   "cell_type": "code",
   "execution_count": null,
   "id": "3e86b934",
   "metadata": {},
   "outputs": [],
   "source": [
    "train_df.head(2)"
   ]
  },
  {
   "cell_type": "markdown",
   "id": "bdb16bcf",
   "metadata": {},
   "source": [
    "## Visualisation of the data set"
   ]
  },
  {
   "cell_type": "markdown",
   "id": "2784747e",
   "metadata": {},
   "source": [
    "### Plotting Histogram of each features"
   ]
  },
  {
   "cell_type": "code",
   "execution_count": null,
   "id": "62f16c06",
   "metadata": {
    "scrolled": false
   },
   "outputs": [],
   "source": [
    "n=1\n",
    "plt.figure(figsize=(18,15))\n",
    "for column in train_df.columns:\n",
    "    \n",
    "    plt.subplot(5,4,n)\n",
    "    n=n+1\n",
    "    sns.distplot(train_df[column], hist=True, kde=True, \n",
    "             color = 'darkblue', \n",
    "             hist_kws={'edgecolor':'black'},\n",
    "             kde_kws={'linewidth': 1})\n",
    "    plt.tight_layout\n"
   ]
  },
  {
   "cell_type": "markdown",
   "id": "1a0051c4",
   "metadata": {},
   "source": [
    "### Remark\n",
    "* From the above plots it seems that features given below should be analyzed deeply\n",
    "1. is_price\n",
    "2. is_timer\n",
    "3. is_discount\n",
    "4. is_personalized\n",
    "5. is_urgency\n",
    "6. is_emoticons \n"
   ]
  },
  {
   "cell_type": "markdown",
   "id": "8cf20038",
   "metadata": {},
   "source": [
    "### is_price\n"
   ]
  },
  {
   "cell_type": "code",
   "execution_count": null,
   "id": "901ca1d7",
   "metadata": {},
   "outputs": [],
   "source": [
    "train_df['is_price'].value_counts()"
   ]
  },
  {
   "cell_type": "code",
   "execution_count": null,
   "id": "2acc851a",
   "metadata": {},
   "outputs": [],
   "source": [
    "plt.hist(train_df['is_price'])\n",
    "plt.show()"
   ]
  },
  {
   "cell_type": "code",
   "execution_count": null,
   "id": "88a4a595",
   "metadata": {},
   "outputs": [],
   "source": [
    "test_df['is_price'].value_counts()"
   ]
  },
  {
   "cell_type": "code",
   "execution_count": null,
   "id": "a13d80d4",
   "metadata": {},
   "outputs": [],
   "source": [
    "plt.hist(test_df['is_price'])\n",
    "plt.show()"
   ]
  },
  {
   "cell_type": "markdown",
   "id": "f31d6408",
   "metadata": {},
   "source": [
    "##"
   ]
  },
  {
   "cell_type": "markdown",
   "id": "56ff86ee",
   "metadata": {},
   "source": [
    "### is_timer"
   ]
  },
  {
   "cell_type": "code",
   "execution_count": null,
   "id": "d8575f17",
   "metadata": {},
   "outputs": [],
   "source": [
    "train_df['is_timer'].value_counts()"
   ]
  },
  {
   "cell_type": "code",
   "execution_count": null,
   "id": "2f258e8e",
   "metadata": {},
   "outputs": [],
   "source": [
    "test_df['is_timer'].value_counts()"
   ]
  },
  {
   "cell_type": "markdown",
   "id": "e6ae3b4c",
   "metadata": {},
   "source": [
    "### is_discount"
   ]
  },
  {
   "cell_type": "code",
   "execution_count": null,
   "id": "de0446f9",
   "metadata": {},
   "outputs": [],
   "source": [
    "train_df['is_discount'].value_counts()"
   ]
  },
  {
   "cell_type": "code",
   "execution_count": null,
   "id": "deb91bbd",
   "metadata": {},
   "outputs": [],
   "source": [
    "test_df['is_discount'].value_counts()"
   ]
  },
  {
   "cell_type": "markdown",
   "id": "f7f0d990",
   "metadata": {},
   "source": [
    "### is_personalised"
   ]
  },
  {
   "cell_type": "code",
   "execution_count": null,
   "id": "0580e159",
   "metadata": {},
   "outputs": [],
   "source": [
    "train_df['is_personalised'].value_counts()"
   ]
  },
  {
   "cell_type": "code",
   "execution_count": null,
   "id": "dc6f988f",
   "metadata": {},
   "outputs": [],
   "source": [
    "test_df['is_personalised'].value_counts()"
   ]
  },
  {
   "cell_type": "markdown",
   "id": "4a294205",
   "metadata": {},
   "source": [
    "###  is_urgency "
   ]
  },
  {
   "cell_type": "code",
   "execution_count": null,
   "id": "c09c26f0",
   "metadata": {},
   "outputs": [],
   "source": [
    "train_df['is_urgency'].value_counts()"
   ]
  },
  {
   "cell_type": "code",
   "execution_count": null,
   "id": "8db4108f",
   "metadata": {},
   "outputs": [],
   "source": [
    "test_df['is_urgency'].value_counts()"
   ]
  },
  {
   "cell_type": "markdown",
   "id": "4d020aec",
   "metadata": {},
   "source": [
    "### is_emoticons"
   ]
  },
  {
   "cell_type": "code",
   "execution_count": null,
   "id": "a6762600",
   "metadata": {},
   "outputs": [],
   "source": [
    "train_df['is_emoticons'].value_counts()"
   ]
  },
  {
   "cell_type": "code",
   "execution_count": null,
   "id": "581f4fbc",
   "metadata": {},
   "outputs": [],
   "source": [
    "test_df['is_emoticons'].value_counts()"
   ]
  },
  {
   "cell_type": "markdown",
   "id": "c36e2375",
   "metadata": {},
   "source": [
    "### Remark :\n",
    "\n",
    "* is_price, is_timer : delete columns \n",
    "* for the other features need to analyze more\n",
    "\n"
   ]
  },
  {
   "cell_type": "markdown",
   "id": "c110eaf9",
   "metadata": {},
   "source": [
    "## Feature engineering"
   ]
  },
  {
   "cell_type": "code",
   "execution_count": null,
   "id": "8b364a02",
   "metadata": {},
   "outputs": [],
   "source": [
    "train_df_new = train_df.copy()\n",
    "test_df_new = test_df.copy()"
   ]
  },
  {
   "cell_type": "code",
   "execution_count": null,
   "id": "dce75ab7",
   "metadata": {},
   "outputs": [],
   "source": [
    "train_df['sender'].value_counts()"
   ]
  },
  {
   "cell_type": "code",
   "execution_count": null,
   "id": "8b5bf326",
   "metadata": {},
   "outputs": [],
   "source": [
    "train_df['sender'].describe()"
   ]
  },
  {
   "cell_type": "code",
   "execution_count": null,
   "id": "1e26414b",
   "metadata": {},
   "outputs": [],
   "source": [
    "train_df_new['sender_map'] = 0\n",
    "test_df_new['sender_map'] = 0"
   ]
  },
  {
   "cell_type": "code",
   "execution_count": null,
   "id": "2978187f",
   "metadata": {},
   "outputs": [],
   "source": [
    "train_df_new.loc[train_df_new['sender'] != 3, 'sender_map'] = 1\n",
    "test_df_new.loc[test_df_new['sender'] != 3, 'sender_map'] = 1\n"
   ]
  },
  {
   "cell_type": "code",
   "execution_count": null,
   "id": "17475264",
   "metadata": {},
   "outputs": [],
   "source": [
    "columns_deleted = []\n",
    "columns_deleted.extend(['sender'])"
   ]
  },
  {
   "cell_type": "code",
   "execution_count": null,
   "id": "e36f3e8f",
   "metadata": {},
   "outputs": [],
   "source": [
    "train_df_new['subject_len'].describe()"
   ]
  },
  {
   "cell_type": "code",
   "execution_count": null,
   "id": "08b42973",
   "metadata": {},
   "outputs": [],
   "source": [
    "train_df_new['subject_len'].value_counts()"
   ]
  },
  {
   "cell_type": "code",
   "execution_count": null,
   "id": "f685195d",
   "metadata": {},
   "outputs": [],
   "source": [
    "def subject_map(series):\n",
    "    if series < 73:\n",
    "        return 1\n",
    "    elif (series >=73) and (series < 137):\n",
    "        return 2\n",
    "    elif (series >=137) and (series < 201):\n",
    "        return 3\n",
    "    elif (series >=201):\n",
    "        return 4"
   ]
  },
  {
   "cell_type": "code",
   "execution_count": null,
   "id": "904d5a1f",
   "metadata": {},
   "outputs": [],
   "source": [
    "train_df_new['subject_len_map'] = train_df_new['subject_len'].apply(subject_map)\n",
    "test_df_new['subject_len_map'] = test_df_new['subject_len'].apply(subject_map)"
   ]
  },
  {
   "cell_type": "code",
   "execution_count": null,
   "id": "a71646f8",
   "metadata": {},
   "outputs": [],
   "source": [
    "train_df_new['body_len'].describe()"
   ]
  },
  {
   "cell_type": "code",
   "execution_count": null,
   "id": "d57919e7",
   "metadata": {},
   "outputs": [],
   "source": [
    "train_df_new['body_len'].value_counts()"
   ]
  },
  {
   "cell_type": "code",
   "execution_count": null,
   "id": "324a066c",
   "metadata": {},
   "outputs": [],
   "source": [
    "def body_map(series):\n",
    "    if series < 9554:\n",
    "        return 1\n",
    "    elif (series >=9554) and (series < 12689):\n",
    "        return 2\n",
    "    elif (series >=12689) and (series < 17351):\n",
    "        return 3\n",
    "    elif (series >=17351):\n",
    "        return 4"
   ]
  },
  {
   "cell_type": "code",
   "execution_count": null,
   "id": "ebf10804",
   "metadata": {},
   "outputs": [],
   "source": [
    "train_df_new['body_len_map'] = train_df_new['body_len'].apply(body_map)\n",
    "test_df_new['body_len_map'] = test_df_new['body_len'].apply(body_map)"
   ]
  },
  {
   "cell_type": "code",
   "execution_count": null,
   "id": "3a8d45ba",
   "metadata": {},
   "outputs": [],
   "source": [
    "train_df_new['mean_paragraph_len'].describe()"
   ]
  },
  {
   "cell_type": "code",
   "execution_count": null,
   "id": "950d9dcc",
   "metadata": {},
   "outputs": [],
   "source": [
    "train_df_new['mean_paragraph_len'].value_counts()"
   ]
  },
  {
   "cell_type": "code",
   "execution_count": null,
   "id": "4c1fc71d",
   "metadata": {},
   "outputs": [],
   "source": [
    "def mean_paragraph_len_map(series):\n",
    "    if series < 74:\n",
    "        return 1\n",
    "    elif (series >=74) and (series < 144):\n",
    "        return 2\n",
    "    elif (series >=144) and (series < 214):\n",
    "        return 3\n",
    "    elif (series >=214):\n",
    "        return 4"
   ]
  },
  {
   "cell_type": "code",
   "execution_count": null,
   "id": "d5121e39",
   "metadata": {},
   "outputs": [],
   "source": [
    "train_df_new['mean_paragraph_len_map'] = train_df_new['mean_paragraph_len'].apply(mean_paragraph_len_map)\n",
    "test_df_new['mean_paragraph_len_map'] = test_df_new['mean_paragraph_len'].apply(mean_paragraph_len_map)"
   ]
  },
  {
   "cell_type": "code",
   "execution_count": null,
   "id": "88644ae6",
   "metadata": {},
   "outputs": [],
   "source": [
    "# creating new feature total_num_of_paragraph\n",
    "train_df_new['total_num_of_paragraph'] = train_df_new['body_len'] / train_df_new['mean_paragraph_len']\n",
    "test_df_new['total_num_of_paragraph'] = test_df_new['body_len'] / test_df_new['mean_paragraph_len']"
   ]
  },
  {
   "cell_type": "code",
   "execution_count": null,
   "id": "8a7f4789",
   "metadata": {},
   "outputs": [],
   "source": [
    "train_df_new['total_length'] = train_df_new['subject_len'] + train_df_new['body_len']\n",
    "test_df_new['total_length'] = test_df_new['subject_len'] + test_df_new['body_len']"
   ]
  },
  {
   "cell_type": "code",
   "execution_count": null,
   "id": "33a9f2b3",
   "metadata": {},
   "outputs": [],
   "source": [
    "train_df_new = train_df_new.join(pd.get_dummies(train_df_new['times_of_day'], prefix='times_of_day'))\n",
    "test_df_new = test_df_new.join(pd.get_dummies(test_df_new['times_of_day'], prefix='times_of_day'))"
   ]
  },
  {
   "cell_type": "code",
   "execution_count": null,
   "id": "d28f5b8c",
   "metadata": {},
   "outputs": [],
   "source": [
    "columns_deleted.extend(['times_of_day'])"
   ]
  },
  {
   "cell_type": "code",
   "execution_count": null,
   "id": "076d7e0d",
   "metadata": {},
   "outputs": [],
   "source": [
    "train_df_new['total_length_cta'] = train_df_new['no_of_CTA'] * train_df_new['mean_CTA_len']\n",
    "test_df_new['total_length_cta'] = test_df_new['no_of_CTA'] * test_df_new['mean_CTA_len']"
   ]
  },
  {
   "cell_type": "code",
   "execution_count": null,
   "id": "132b0121",
   "metadata": {},
   "outputs": [],
   "source": [
    "def no_of_CTA_map(series):\n",
    "    if series < 12:\n",
    "        return 1\n",
    "    elif (series >=12) and (series < 24):\n",
    "        return 2\n",
    "    elif (series >=24) and (series < 36):\n",
    "        return 3\n",
    "    elif (series >=36):\n",
    "        return 4"
   ]
  },
  {
   "cell_type": "code",
   "execution_count": null,
   "id": "73bd4f49",
   "metadata": {},
   "outputs": [],
   "source": [
    "train_df_new['no_of_CTA_bin'] = train_df_new['no_of_CTA'].apply(no_of_CTA_map)\n",
    "test_df_new['no_of_CTA_bin'] = test_df_new['no_of_CTA'].apply(no_of_CTA_map)"
   ]
  },
  {
   "cell_type": "code",
   "execution_count": null,
   "id": "558bbd4a",
   "metadata": {},
   "outputs": [],
   "source": [
    "train_df_new['mean_CTA_len'].describe()"
   ]
  },
  {
   "cell_type": "code",
   "execution_count": null,
   "id": "eee54ae5",
   "metadata": {},
   "outputs": [],
   "source": [
    "def mean_CTA_len_map(series):\n",
    "    if series < 40:\n",
    "        return 1\n",
    "    elif (series >=40) and (series < 120):\n",
    "        return 2\n",
    "    elif (series >=120):\n",
    "        return 3"
   ]
  },
  {
   "cell_type": "code",
   "execution_count": null,
   "id": "4c094b1e",
   "metadata": {},
   "outputs": [],
   "source": [
    "train_df_new['mean_CTA_len_bin'] = train_df_new['mean_CTA_len'].apply(mean_CTA_len_map)\n",
    "test_df_new['mean_CTA_len_bin'] = test_df_new['mean_CTA_len'].apply(mean_CTA_len_map)"
   ]
  },
  {
   "cell_type": "code",
   "execution_count": null,
   "id": "f506c9ee",
   "metadata": {},
   "outputs": [],
   "source": [
    "train_df_new['is_image'].value_counts()"
   ]
  },
  {
   "cell_type": "code",
   "execution_count": null,
   "id": "c8f856db",
   "metadata": {},
   "outputs": [],
   "source": [
    "train_df_new['is_image_map'] = 0 \n",
    "test_df_new['is_image_map'] = 0 "
   ]
  },
  {
   "cell_type": "code",
   "execution_count": null,
   "id": "a5a0a221",
   "metadata": {},
   "outputs": [],
   "source": [
    "train_df_new.loc[train_df_new['is_image'] > 0, 'is_image_map'] = 1\n",
    "test_df_new.loc[test_df_new['is_image'] > 0, 'is_image_map'] = 1"
   ]
  },
  {
   "cell_type": "code",
   "execution_count": null,
   "id": "b4fedfd8",
   "metadata": {},
   "outputs": [],
   "source": [
    "train_df_new['is_quote_exist'] = 0 \n",
    "test_df_new['is_quote_exist'] = 0"
   ]
  },
  {
   "cell_type": "code",
   "execution_count": null,
   "id": "fa6bddb0",
   "metadata": {},
   "outputs": [],
   "source": [
    "train_df_new.loc[train_df_new['is_quote'] > 0, 'is_quote_exist'] = 1\n",
    "test_df_new.loc[test_df_new['is_quote'] > 0, 'is_quote_exist'] = 1"
   ]
  },
  {
   "cell_type": "code",
   "execution_count": null,
   "id": "76c13736",
   "metadata": {},
   "outputs": [],
   "source": [
    "train_df_new['is_emoticons_exist'] = 0 \n",
    "test_df_new['is_emoticons_exist'] = 0 "
   ]
  },
  {
   "cell_type": "code",
   "execution_count": null,
   "id": "7d47f286",
   "metadata": {},
   "outputs": [],
   "source": [
    "train_df_new.loc[train_df_new['is_emoticons'] > 0, 'is_emoticons_exist'] = 1\n",
    "test_df_new.loc[test_df_new['is_emoticons'] > 0, 'is_emoticons_exist'] = 1"
   ]
  },
  {
   "cell_type": "code",
   "execution_count": null,
   "id": "d9cd0465",
   "metadata": {},
   "outputs": [],
   "source": [
    "train_df_new['category_mapped'] = train_df_new['category']\n",
    "train_df_new.loc[~(train_df_new['category_mapped'].isin([15, 6, 1, 9])),'category_mapped'] = 300\n",
    "train_df_new = train_df_new.join(pd.get_dummies(train_df_new['category_mapped'], prefix='category_mapped'))"
   ]
  },
  {
   "cell_type": "code",
   "execution_count": null,
   "id": "6e0939e0",
   "metadata": {},
   "outputs": [],
   "source": [
    "test_df_new['category_mapped'] = test_df_new['category']\n",
    "test_df_new.loc[~(test_df_new['category_mapped'].isin([15, 6, 1, 9])),'category_mapped'] = 300\n",
    "test_df_new = test_df_new.join(pd.get_dummies(test_df_new['category_mapped'], prefix='category_mapped'))"
   ]
  },
  {
   "cell_type": "code",
   "execution_count": null,
   "id": "38134bf9",
   "metadata": {},
   "outputs": [],
   "source": [
    "train_df_new['product_mapped'] = train_df_new['product']\n",
    "train_df_new.loc[~(train_df_new['product_mapped'].isin([9, 5, 34])),'product_mapped'] = 300\n",
    "train_df_new = train_df_new.join(pd.get_dummies(train_df_new['product_mapped'], prefix='product_mapped'))"
   ]
  },
  {
   "cell_type": "code",
   "execution_count": null,
   "id": "9bf053c8",
   "metadata": {},
   "outputs": [],
   "source": [
    "test_df_new['product_mapped'] = test_df_new['product']\n",
    "test_df_new.loc[~(test_df_new['product_mapped'].isin([9, 5, 34])),'product_mapped'] = 300\n",
    "test_df_new = test_df_new.join(pd.get_dummies(test_df_new['product_mapped'], prefix='product_mapped'))"
   ]
  },
  {
   "cell_type": "code",
   "execution_count": null,
   "id": "148c0971",
   "metadata": {},
   "outputs": [],
   "source": [
    "plt.figure(figsize=(15,8))\n",
    "train_df_new.corr()['click_rate'].sort_values(ascending=False).plot(kind='bar')\n",
    "plt.show()"
   ]
  },
  {
   "cell_type": "code",
   "execution_count": null,
   "id": "87f75214",
   "metadata": {},
   "outputs": [],
   "source": []
  },
  {
   "cell_type": "code",
   "execution_count": null,
   "id": "f10cc6a5",
   "metadata": {},
   "outputs": [],
   "source": [
    "columns_deleted.extend(['is_timer','is_emoticons','is_price'])"
   ]
  },
  {
   "cell_type": "code",
   "execution_count": null,
   "id": "09dfb6a6",
   "metadata": {},
   "outputs": [],
   "source": [
    "columns_deleted.extend(['campaign_id', 'click_rate'])"
   ]
  },
  {
   "cell_type": "code",
   "execution_count": null,
   "id": "e471112a",
   "metadata": {},
   "outputs": [],
   "source": [
    "columns_deleted"
   ]
  },
  {
   "cell_type": "code",
   "execution_count": null,
   "id": "a3d71ffa",
   "metadata": {},
   "outputs": [],
   "source": [
    "columns_deleted_1 = ['sender',\n",
    " 'times_of_day',\n",
    " 'category',\n",
    " 'category_mapped',\n",
    " 'product',\n",
    " 'product_mapped',\n",
    " 'is_timer',\n",
    " 'is_emoticons',\n",
    " 'is_price']\n",
    "columns_deleted_1\n",
    "columns_deleted_1.extend(['campaign_id', 'click_rate'])"
   ]
  },
  {
   "cell_type": "code",
   "execution_count": null,
   "id": "6f3701dd",
   "metadata": {},
   "outputs": [],
   "source": [
    "columns_deleted_1"
   ]
  },
  {
   "cell_type": "code",
   "execution_count": null,
   "id": "088ed222",
   "metadata": {},
   "outputs": [],
   "source": [
    "train_df_new.info()"
   ]
  },
  {
   "cell_type": "code",
   "execution_count": null,
   "id": "336d9c03",
   "metadata": {},
   "outputs": [],
   "source": [
    "X = train_df_new.drop(columns_deleted_1, axis=1)\n",
    "y = train_df_new['click_rate']"
   ]
  },
  {
   "cell_type": "code",
   "execution_count": null,
   "id": "2f25b15a",
   "metadata": {},
   "outputs": [],
   "source": [
    "X.shape"
   ]
  },
  {
   "cell_type": "code",
   "execution_count": null,
   "id": "8c2a752a",
   "metadata": {},
   "outputs": [],
   "source": [
    "columns_deleted_1"
   ]
  },
  {
   "cell_type": "code",
   "execution_count": null,
   "id": "1009d66d",
   "metadata": {},
   "outputs": [],
   "source": [
    "submit_df = pd.DataFrame()\n",
    "submit_df['campaign_id'] = test_df_new['campaign_id']\n",
    "test_X = test_df_new.drop(['sender',\n",
    " 'times_of_day',\n",
    " 'category',\n",
    " 'category_mapped',\n",
    " 'product',\n",
    " 'product_mapped',\n",
    " 'is_timer',\n",
    " 'is_emoticons',\n",
    " 'is_price',\n",
    " 'campaign_id'], axis=1)"
   ]
  },
  {
   "cell_type": "code",
   "execution_count": null,
   "id": "de6cee1b",
   "metadata": {},
   "outputs": [],
   "source": [
    "test_X.info()"
   ]
  },
  {
   "cell_type": "code",
   "execution_count": null,
   "id": "97f4528e",
   "metadata": {},
   "outputs": [],
   "source": [
    "X.info()"
   ]
  },
  {
   "cell_type": "markdown",
   "id": "a70653cc",
   "metadata": {},
   "source": [
    "## Checking Different model performance\n"
   ]
  },
  {
   "cell_type": "code",
   "execution_count": null,
   "id": "1bf7933c",
   "metadata": {},
   "outputs": [],
   "source": [
    "from sklearn.model_selection import train_test_split"
   ]
  },
  {
   "cell_type": "code",
   "execution_count": null,
   "id": "2273f197",
   "metadata": {},
   "outputs": [],
   "source": [
    "X_train, X_test, y_train, y_test = train_test_split(X,y,test_size = 0.15 , random_state = 0)"
   ]
  },
  {
   "cell_type": "code",
   "execution_count": null,
   "id": "96c75df0",
   "metadata": {},
   "outputs": [],
   "source": [
    "X_train.head(2)"
   ]
  },
  {
   "cell_type": "code",
   "execution_count": null,
   "id": "7ffe3f9c",
   "metadata": {},
   "outputs": [],
   "source": [
    "from sklearn.linear_model import LinearRegression\n",
    "from sklearn.tree import DecisionTreeRegressor\n",
    "from sklearn.ensemble import RandomForestRegressor\n",
    "from sklearn.tree import ExtraTreeRegressor\n",
    "from sklearn.ensemble import HistGradientBoostingRegressor\n",
    "from catboost import CatBoostRegressor\n",
    "from xgboost import XGBRFRegressor\n",
    "from sklearn.ensemble import AdaBoostRegressor\n",
    "from xgboost import XGBRegressor"
   ]
  },
  {
   "cell_type": "code",
   "execution_count": null,
   "id": "3f87af69",
   "metadata": {},
   "outputs": [],
   "source": [
    "regressors = [LinearRegression(), DecisionTreeRegressor(), RandomForestRegressor(), \n",
    "              ExtraTreeRegressor(),HistGradientBoostingRegressor(),XGBRFRegressor(n_estimators=500, max_depth=12, eta=0.1, subsample=0.7, colsample_bytree=0.8),CatBoostRegressor(),AdaBoostRegressor(),XGBRegressor()]\n",
    "names = ['Linear_Regression', 'DecisionTree', 'Random_Forest','ExtraTree', 'HistGradientBoosting','XGboostRF','catboost','adaboost','xgboost']"
   ]
  },
  {
   "cell_type": "code",
   "execution_count": null,
   "id": "26e0ede2",
   "metadata": {},
   "outputs": [],
   "source": [
    "from sklearn.metrics import r2_score, mean_squared_error"
   ]
  },
  {
   "cell_type": "code",
   "execution_count": null,
   "id": "5aff4fbe",
   "metadata": {},
   "outputs": [],
   "source": [
    "\n",
    "model_dict = {}\n",
    "for name, reg in zip(names, regressors):\n",
    "    \n",
    "    # training\n",
    "    reg.fit(X_train, y_train)\n",
    "    \n",
    "    # accuracy\n",
    "    score = reg.score(X_test, y_test)\n",
    "    model_dict[name] = [r2_score(y_test.values, reg.predict(X_test)), mean_squared_error(y_test.values, reg.predict(X_test)) ]"
   ]
  },
  {
   "cell_type": "code",
   "execution_count": null,
   "id": "eb5ffb66",
   "metadata": {},
   "outputs": [],
   "source": [
    "model_df = pd.DataFrame(model_dict, index = ['R2_score','mean_squared_error']).T\n",
    "model_df= model_df.sort_values(by=['R2_score', 'mean_squared_error'], ascending=False)\n",
    "model_df"
   ]
  },
  {
   "cell_type": "code",
   "execution_count": null,
   "id": "83ff0a7b",
   "metadata": {},
   "outputs": [],
   "source": [
    "submit_df = pd.DataFrame()"
   ]
  },
  {
   "cell_type": "code",
   "execution_count": null,
   "id": "8d76d3e0",
   "metadata": {},
   "outputs": [],
   "source": [
    "submit_df['campaign_id'] = test_df_new['campaign_id']"
   ]
  },
  {
   "cell_type": "markdown",
   "id": "9b80239b",
   "metadata": {},
   "source": [
    "## Catboost"
   ]
  },
  {
   "cell_type": "code",
   "execution_count": null,
   "id": "6474ee11",
   "metadata": {},
   "outputs": [],
   "source": [
    "from catboost import CatBoostRegressor\n",
    "model = CatBoostRegressor(loss_function='RMSE')\n",
    "cat=model.fit( X, y)\n"
   ]
  },
  {
   "cell_type": "code",
   "execution_count": null,
   "id": "922ce768",
   "metadata": {},
   "outputs": [],
   "source": [
    "y_train_pred_cat = cat.predict(X)\n",
    "train_score = r2_score(y, y_train_pred_cat)\n",
    "print(f'catboost train accuracy 'f'{train_score:.3f}')"
   ]
  },
  {
   "cell_type": "code",
   "execution_count": null,
   "id": "3e9f3632",
   "metadata": {},
   "outputs": [],
   "source": [
    "from catboost import CatBoostRegressor\n",
    "from catboost import Pool\n",
    "train_data = Pool(data=X,\n",
    "                  label=y)"
   ]
  },
  {
   "cell_type": "code",
   "execution_count": null,
   "id": "8b31cd87",
   "metadata": {},
   "outputs": [],
   "source": [
    "df_feature_importance = pd.DataFrame({'feature_importance': cat.get_feature_importance(train_data), \n",
    "              'feature_names': X.columns}).sort_values(by=['feature_importance'], \n",
    "                                                       ascending=False)\n",
    "\n",
    "plt.figure(figsize=(12, 6));\n",
    "feature_plot= sns.barplot(x=\"feature_importance\", y=\"feature_names\", data=df_feature_importance,palette=\"cool\")\n",
    "plt.title('features importance')"
   ]
  },
  {
   "cell_type": "markdown",
   "id": "2f0398ea",
   "metadata": {},
   "source": [
    "## XGBoost"
   ]
  },
  {
   "cell_type": "code",
   "execution_count": null,
   "id": "8dbdf3c4",
   "metadata": {},
   "outputs": [],
   "source": [
    "xgb = XGBRFRegressor(n_estimators=500, max_depth=12, eta=0.1, subsample=0.7, colsample_bytree=0.8)\n"
   ]
  },
  {
   "cell_type": "code",
   "execution_count": null,
   "id": "2f00083c",
   "metadata": {},
   "outputs": [],
   "source": [
    "xgb.fit(X, y)\n",
    "y_train_pred_xgb = xgb.predict(X)\n",
    "train_score = r2_score(y, y_train_pred_xgb)\n",
    "print(f'xgboost train accuracy 'f'{train_score:.3f}')\n"
   ]
  },
  {
   "cell_type": "code",
   "execution_count": null,
   "id": "f3b2fbb3",
   "metadata": {},
   "outputs": [],
   "source": [
    "ft = xgb.get_booster().get_score(importance_type='weight')\n",
    "{k: v for k, v in sorted(ft.items(), key=lambda item: item[1])}"
   ]
  },
  {
   "cell_type": "code",
   "execution_count": null,
   "id": "bb0595f7",
   "metadata": {},
   "outputs": [],
   "source": [
    "from xgboost import plot_importance\n",
    "plot_importance(xgb) \n",
    "plt.show()"
   ]
  },
  {
   "cell_type": "markdown",
   "id": "b4d9e7c9",
   "metadata": {},
   "source": [
    "## Random Forest"
   ]
  },
  {
   "cell_type": "code",
   "execution_count": null,
   "id": "7dd49025",
   "metadata": {},
   "outputs": [],
   "source": [
    "rf = RandomForestRegressor()\n",
    "rf.fit(X, y)\n",
    "y_train_pred_rf = rf.predict(X)\n",
    "train_score = r2_score(y, y_train_pred_rf)\n",
    "print(f'randomforest train accuracy 'f'{train_score:.3f}')"
   ]
  },
  {
   "cell_type": "markdown",
   "id": "9865d93b",
   "metadata": {},
   "source": [
    "## Ensemble of 3 Clasifier"
   ]
  },
  {
   "cell_type": "code",
   "execution_count": null,
   "id": "e162d7f1",
   "metadata": {},
   "outputs": [],
   "source": [
    "from sklearn.pipeline import make_pipeline\n",
    "from sklearn.ensemble import StackingClassifier"
   ]
  },
  {
   "cell_type": "code",
   "execution_count": null,
   "id": "861965b4",
   "metadata": {},
   "outputs": [],
   "source": [
    "def get_oof(clf):\n",
    "    oof_train = np.zeros((x_train.shape[0],))\n",
    "    oof_test = np.zeros((x_test.shape[0],))\n",
    "    oof_test_skf = np.empty((3, x_test.shape[0]))\n",
    "\n",
    "    for i, (train_index, test_index) in enumerate(kf.split(x_train)):\n",
    "        x_tr = x_train.loc[train_index]\n",
    "        y_tr = y_train.loc[train_index]\n",
    "        x_te = x_train.loc[test_index]\n",
    "\n",
    "        clf.fit(x_tr, y_tr)\n",
    "\n",
    "        oof_train[test_index] = clf.predict(x_te)\n",
    "        oof_test_skf[i, :] = clf.predict(x_test)\n",
    "\n",
    "    oof_test[:] = oof_test_skf.mean(axis=0)\n",
    "    return oof_train.reshape(-1, 1), oof_test.reshape(-1, 1)"
   ]
  },
  {
   "cell_type": "code",
   "execution_count": null,
   "id": "11b58e37",
   "metadata": {},
   "outputs": [],
   "source": [
    "from sklearn.model_selection import KFold"
   ]
  },
  {
   "cell_type": "code",
   "execution_count": null,
   "id": "2ce5946e",
   "metadata": {},
   "outputs": [],
   "source": [
    "kf = KFold(n_splits = 3, shuffle=True, random_state=10)"
   ]
  },
  {
   "cell_type": "code",
   "execution_count": null,
   "id": "9c9e4d12",
   "metadata": {},
   "outputs": [],
   "source": [
    "xg = XGBRegressor(n_estimators=1000, max_depth=7, eta=0.1, subsample=0.7, colsample_bytree=0.8)\n",
    "rf = RandomForestRegressor()\n",
    "cb = CatBoostRegressor()"
   ]
  },
  {
   "cell_type": "code",
   "execution_count": null,
   "id": "4d134540",
   "metadata": {},
   "outputs": [],
   "source": [
    "x_train = X.copy()\n",
    "x_test = test_X.copy()\n",
    "y_train = y.copy()"
   ]
  },
  {
   "cell_type": "code",
   "execution_count": null,
   "id": "a9266723",
   "metadata": {},
   "outputs": [],
   "source": [
    "xg_oof_train, xg_oof_test = get_oof(xg)\n",
    "rf_oof_train, rf_oof_test = get_oof(rf)\n",
    "cb_oof_train, cb_oof_test = get_oof(cb)"
   ]
  },
  {
   "cell_type": "code",
   "execution_count": null,
   "id": "01453ce0",
   "metadata": {},
   "outputs": [],
   "source": [
    "y_pred_l = np.concatenate((xg_oof_test, rf_oof_test, cb_oof_test), axis=1)"
   ]
  },
  {
   "cell_type": "code",
   "execution_count": null,
   "id": "fbbdceff",
   "metadata": {},
   "outputs": [],
   "source": [
    "y_pred = np.mean(y_pred_l,axis=1)"
   ]
  },
  {
   "cell_type": "code",
   "execution_count": null,
   "id": "85ed8e6a",
   "metadata": {},
   "outputs": [],
   "source": [
    "submit_df['click_rate'] = y_pred"
   ]
  },
  {
   "cell_type": "code",
   "execution_count": null,
   "id": "ed478275",
   "metadata": {},
   "outputs": [],
   "source": [
    "submit_df[['campaign_id', 'click_rate']].to_csv('final_cat_xg.csv', index=False)"
   ]
  },
  {
   "cell_type": "code",
   "execution_count": null,
   "id": "bd5c8073",
   "metadata": {},
   "outputs": [],
   "source": []
  }
 ],
 "metadata": {
  "kernelspec": {
   "display_name": "Python 3",
   "language": "python",
   "name": "python3"
  },
  "language_info": {
   "codemirror_mode": {
    "name": "ipython",
    "version": 3
   },
   "file_extension": ".py",
   "mimetype": "text/x-python",
   "name": "python",
   "nbconvert_exporter": "python",
   "pygments_lexer": "ipython3",
   "version": "3.8.8"
  }
 },
 "nbformat": 4,
 "nbformat_minor": 5
}
