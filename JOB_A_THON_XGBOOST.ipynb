{
 "cells": [
  {
   "cell_type": "markdown",
   "id": "0962f5d8",
   "metadata": {},
   "source": [
    "### Importing Libraries "
   ]
  },
  {
   "cell_type": "code",
   "execution_count": 1,
   "id": "86e28985",
   "metadata": {
    "ExecuteTime": {
     "end_time": "2022-06-05T13:10:15.746721Z",
     "start_time": "2022-06-05T13:10:15.741053Z"
    }
   },
   "outputs": [],
   "source": [
    "import pandas as pd\n",
    "from sklearn.preprocessing import StandardScaler\n",
    "import xgboost as xgb\n",
    "from sklearn.metrics import f1_score\n",
    "import seaborn as sns"
   ]
  },
  {
   "cell_type": "markdown",
   "id": "900830e8",
   "metadata": {},
   "source": [
    "### Importing datasets"
   ]
  },
  {
   "cell_type": "code",
   "execution_count": 2,
   "id": "5da640ec",
   "metadata": {
    "ExecuteTime": {
     "end_time": "2022-06-05T13:10:19.386510Z",
     "start_time": "2022-06-05T13:10:19.244897Z"
    }
   },
   "outputs": [
    {
     "data": {
      "text/html": [
       "<div>\n",
       "<style scoped>\n",
       "    .dataframe tbody tr th:only-of-type {\n",
       "        vertical-align: middle;\n",
       "    }\n",
       "\n",
       "    .dataframe tbody tr th {\n",
       "        vertical-align: top;\n",
       "    }\n",
       "\n",
       "    .dataframe thead th {\n",
       "        text-align: right;\n",
       "    }\n",
       "</style>\n",
       "<table border=\"1\" class=\"dataframe\">\n",
       "  <thead>\n",
       "    <tr style=\"text-align: right;\">\n",
       "      <th></th>\n",
       "      <th>id</th>\n",
       "      <th>created_at</th>\n",
       "      <th>campaign_var_1</th>\n",
       "      <th>campaign_var_2</th>\n",
       "      <th>products_purchased</th>\n",
       "      <th>signup_date</th>\n",
       "      <th>user_activity_var_1</th>\n",
       "      <th>user_activity_var_2</th>\n",
       "      <th>user_activity_var_3</th>\n",
       "      <th>user_activity_var_4</th>\n",
       "      <th>user_activity_var_5</th>\n",
       "      <th>user_activity_var_6</th>\n",
       "      <th>user_activity_var_7</th>\n",
       "      <th>user_activity_var_8</th>\n",
       "      <th>user_activity_var_9</th>\n",
       "      <th>user_activity_var_10</th>\n",
       "      <th>user_activity_var_11</th>\n",
       "      <th>user_activity_var_12</th>\n",
       "      <th>buy</th>\n",
       "    </tr>\n",
       "  </thead>\n",
       "  <tbody>\n",
       "    <tr>\n",
       "      <th>0</th>\n",
       "      <td>1</td>\n",
       "      <td>2021-01-01</td>\n",
       "      <td>1</td>\n",
       "      <td>2</td>\n",
       "      <td>2.0</td>\n",
       "      <td>2020-09-24</td>\n",
       "      <td>0</td>\n",
       "      <td>0</td>\n",
       "      <td>0</td>\n",
       "      <td>0</td>\n",
       "      <td>0</td>\n",
       "      <td>0</td>\n",
       "      <td>1</td>\n",
       "      <td>1</td>\n",
       "      <td>0</td>\n",
       "      <td>0</td>\n",
       "      <td>0</td>\n",
       "      <td>0</td>\n",
       "      <td>0</td>\n",
       "    </tr>\n",
       "    <tr>\n",
       "      <th>1</th>\n",
       "      <td>2</td>\n",
       "      <td>2021-01-01</td>\n",
       "      <td>2</td>\n",
       "      <td>1</td>\n",
       "      <td>2.0</td>\n",
       "      <td>2020-09-19</td>\n",
       "      <td>1</td>\n",
       "      <td>0</td>\n",
       "      <td>1</td>\n",
       "      <td>0</td>\n",
       "      <td>0</td>\n",
       "      <td>0</td>\n",
       "      <td>1</td>\n",
       "      <td>0</td>\n",
       "      <td>0</td>\n",
       "      <td>0</td>\n",
       "      <td>0</td>\n",
       "      <td>0</td>\n",
       "      <td>0</td>\n",
       "    </tr>\n",
       "    <tr>\n",
       "      <th>2</th>\n",
       "      <td>3</td>\n",
       "      <td>2021-01-01</td>\n",
       "      <td>9</td>\n",
       "      <td>3</td>\n",
       "      <td>3.0</td>\n",
       "      <td>2021-08-11</td>\n",
       "      <td>1</td>\n",
       "      <td>0</td>\n",
       "      <td>0</td>\n",
       "      <td>0</td>\n",
       "      <td>0</td>\n",
       "      <td>0</td>\n",
       "      <td>0</td>\n",
       "      <td>0</td>\n",
       "      <td>0</td>\n",
       "      <td>0</td>\n",
       "      <td>0</td>\n",
       "      <td>0</td>\n",
       "      <td>0</td>\n",
       "    </tr>\n",
       "    <tr>\n",
       "      <th>3</th>\n",
       "      <td>4</td>\n",
       "      <td>2021-01-01</td>\n",
       "      <td>6</td>\n",
       "      <td>7</td>\n",
       "      <td>2.0</td>\n",
       "      <td>2017-10-04</td>\n",
       "      <td>0</td>\n",
       "      <td>0</td>\n",
       "      <td>0</td>\n",
       "      <td>0</td>\n",
       "      <td>0</td>\n",
       "      <td>0</td>\n",
       "      <td>0</td>\n",
       "      <td>0</td>\n",
       "      <td>0</td>\n",
       "      <td>0</td>\n",
       "      <td>0</td>\n",
       "      <td>0</td>\n",
       "      <td>0</td>\n",
       "    </tr>\n",
       "    <tr>\n",
       "      <th>4</th>\n",
       "      <td>5</td>\n",
       "      <td>2021-01-01</td>\n",
       "      <td>4</td>\n",
       "      <td>6</td>\n",
       "      <td>NaN</td>\n",
       "      <td>2020-06-08</td>\n",
       "      <td>0</td>\n",
       "      <td>0</td>\n",
       "      <td>0</td>\n",
       "      <td>0</td>\n",
       "      <td>0</td>\n",
       "      <td>0</td>\n",
       "      <td>1</td>\n",
       "      <td>0</td>\n",
       "      <td>0</td>\n",
       "      <td>0</td>\n",
       "      <td>1</td>\n",
       "      <td>0</td>\n",
       "      <td>0</td>\n",
       "    </tr>\n",
       "  </tbody>\n",
       "</table>\n",
       "</div>"
      ],
      "text/plain": [
       "   id  created_at  campaign_var_1  campaign_var_2  products_purchased  \\\n",
       "0   1  2021-01-01               1               2                 2.0   \n",
       "1   2  2021-01-01               2               1                 2.0   \n",
       "2   3  2021-01-01               9               3                 3.0   \n",
       "3   4  2021-01-01               6               7                 2.0   \n",
       "4   5  2021-01-01               4               6                 NaN   \n",
       "\n",
       "  signup_date  user_activity_var_1  user_activity_var_2  user_activity_var_3  \\\n",
       "0  2020-09-24                    0                    0                    0   \n",
       "1  2020-09-19                    1                    0                    1   \n",
       "2  2021-08-11                    1                    0                    0   \n",
       "3  2017-10-04                    0                    0                    0   \n",
       "4  2020-06-08                    0                    0                    0   \n",
       "\n",
       "   user_activity_var_4  user_activity_var_5  user_activity_var_6  \\\n",
       "0                    0                    0                    0   \n",
       "1                    0                    0                    0   \n",
       "2                    0                    0                    0   \n",
       "3                    0                    0                    0   \n",
       "4                    0                    0                    0   \n",
       "\n",
       "   user_activity_var_7  user_activity_var_8  user_activity_var_9  \\\n",
       "0                    1                    1                    0   \n",
       "1                    1                    0                    0   \n",
       "2                    0                    0                    0   \n",
       "3                    0                    0                    0   \n",
       "4                    1                    0                    0   \n",
       "\n",
       "   user_activity_var_10  user_activity_var_11  user_activity_var_12  buy  \n",
       "0                     0                     0                     0    0  \n",
       "1                     0                     0                     0    0  \n",
       "2                     0                     0                     0    0  \n",
       "3                     0                     0                     0    0  \n",
       "4                     0                     1                     0    0  "
      ]
     },
     "execution_count": 2,
     "metadata": {},
     "output_type": "execute_result"
    }
   ],
   "source": [
    "df_train = pd.read_csv('train_wn75k28.csv')\n",
    "df_test = pd.read_csv('test_Wf7sxXF.csv')\n",
    "df_train.head(5)"
   ]
  },
  {
   "cell_type": "markdown",
   "id": "5060c9aa",
   "metadata": {},
   "source": [
    "### Checking the info of the training dataset"
   ]
  },
  {
   "cell_type": "code",
   "execution_count": 3,
   "id": "59cf3f6a",
   "metadata": {},
   "outputs": [
    {
     "name": "stdout",
     "output_type": "stream",
     "text": [
      "<class 'pandas.core.frame.DataFrame'>\n",
      "RangeIndex: 39161 entries, 0 to 39160\n",
      "Data columns (total 19 columns):\n",
      " #   Column                Non-Null Count  Dtype  \n",
      "---  ------                --------------  -----  \n",
      " 0   id                    39161 non-null  int64  \n",
      " 1   created_at            39161 non-null  object \n",
      " 2   campaign_var_1        39161 non-null  int64  \n",
      " 3   campaign_var_2        39161 non-null  int64  \n",
      " 4   products_purchased    18250 non-null  float64\n",
      " 5   signup_date           24048 non-null  object \n",
      " 6   user_activity_var_1   39161 non-null  int64  \n",
      " 7   user_activity_var_2   39161 non-null  int64  \n",
      " 8   user_activity_var_3   39161 non-null  int64  \n",
      " 9   user_activity_var_4   39161 non-null  int64  \n",
      " 10  user_activity_var_5   39161 non-null  int64  \n",
      " 11  user_activity_var_6   39161 non-null  int64  \n",
      " 12  user_activity_var_7   39161 non-null  int64  \n",
      " 13  user_activity_var_8   39161 non-null  int64  \n",
      " 14  user_activity_var_9   39161 non-null  int64  \n",
      " 15  user_activity_var_10  39161 non-null  int64  \n",
      " 16  user_activity_var_11  39161 non-null  int64  \n",
      " 17  user_activity_var_12  39161 non-null  int64  \n",
      " 18  buy                   39161 non-null  int64  \n",
      "dtypes: float64(1), int64(16), object(2)\n",
      "memory usage: 5.7+ MB\n"
     ]
    }
   ],
   "source": [
    "df_train.info()"
   ]
  },
  {
   "cell_type": "markdown",
   "id": "baefb2ed",
   "metadata": {},
   "source": [
    "### Visualization"
   ]
  },
  {
   "cell_type": "code",
   "execution_count": 4,
   "id": "c95afc0d",
   "metadata": {},
   "outputs": [
    {
     "name": "stderr",
     "output_type": "stream",
     "text": [
      "/home/chinmayee/anaconda3/lib/python3.8/site-packages/seaborn/_decorators.py:36: FutureWarning: Pass the following variable as a keyword arg: x. From version 0.12, the only valid positional argument will be `data`, and passing other arguments without an explicit keyword will result in an error or misinterpretation.\n",
      "  warnings.warn(\n"
     ]
    },
    {
     "data": {
      "text/plain": [
       "<AxesSubplot:xlabel='buy', ylabel='count'>"
      ]
     },
     "execution_count": 4,
     "metadata": {},
     "output_type": "execute_result"
    },
    {
     "data": {
      "image/png": "[encoded data removed]",
      "text/plain": [
       "<Figure size 432x288 with 1 Axes>"
      ]
     },
     "metadata": {
      "needs_background": "light"
     },
     "output_type": "display_data"
    }
   ],
   "source": [
    "sns.countplot(df_train['buy'])"
   ]
  },
  {
   "cell_type": "code",
   "execution_count": null,
   "id": "e4b41d01",
   "metadata": {},
   "outputs": [],
   "source": []
  },
  {
   "cell_type": "markdown",
   "id": "c2c8e8f3",
   "metadata": {},
   "source": [
    "### Checking info of the testing dataset"
   ]
  },
  {
   "cell_type": "code",
   "execution_count": null,
   "id": "7c97b8a8",
   "metadata": {},
   "outputs": [],
   "source": []
  },
  {
   "cell_type": "code",
   "execution_count": 5,
   "id": "3660dd9d",
   "metadata": {},
   "outputs": [
    {
     "name": "stdout",
     "output_type": "stream",
     "text": [
      "<class 'pandas.core.frame.DataFrame'>\n",
      "RangeIndex: 13184 entries, 0 to 13183\n",
      "Data columns (total 18 columns):\n",
      " #   Column                Non-Null Count  Dtype  \n",
      "---  ------                --------------  -----  \n",
      " 0   id                    13184 non-null  int64  \n",
      " 1   created_at            13184 non-null  object \n",
      " 2   campaign_var_1        13184 non-null  int64  \n",
      " 3   campaign_var_2        13184 non-null  int64  \n",
      " 4   products_purchased    5048 non-null   float64\n",
      " 5   signup_date           6535 non-null   object \n",
      " 6   user_activity_var_1   13184 non-null  int64  \n",
      " 7   user_activity_var_2   13184 non-null  int64  \n",
      " 8   user_activity_var_3   13184 non-null  int64  \n",
      " 9   user_activity_var_4   13184 non-null  int64  \n",
      " 10  user_activity_var_5   13184 non-null  int64  \n",
      " 11  user_activity_var_6   13184 non-null  int64  \n",
      " 12  user_activity_var_7   13184 non-null  int64  \n",
      " 13  user_activity_var_8   13184 non-null  int64  \n",
      " 14  user_activity_var_9   13184 non-null  int64  \n",
      " 15  user_activity_var_10  13184 non-null  int64  \n",
      " 16  user_activity_var_11  13184 non-null  int64  \n",
      " 17  user_activity_var_12  13184 non-null  int64  \n",
      "dtypes: float64(1), int64(15), object(2)\n",
      "memory usage: 1.8+ MB\n"
     ]
    }
   ],
   "source": [
    "df_test.info()"
   ]
  },
  {
   "cell_type": "markdown",
   "id": "1ca55cf8",
   "metadata": {},
   "source": [
    "### Checking the null values"
   ]
  },
  {
   "cell_type": "code",
   "execution_count": 6,
   "id": "6cccd788",
   "metadata": {},
   "outputs": [
    {
     "name": "stdout",
     "output_type": "stream",
     "text": [
      "\n",
      "Train dataset null values : id                          0\n",
      "created_at                  0\n",
      "campaign_var_1              0\n",
      "campaign_var_2              0\n",
      "products_purchased      20911\n",
      "signup_date             15113\n",
      "user_activity_var_1         0\n",
      "user_activity_var_2         0\n",
      "user_activity_var_3         0\n",
      "user_activity_var_4         0\n",
      "user_activity_var_5         0\n",
      "user_activity_var_6         0\n",
      "user_activity_var_7         0\n",
      "user_activity_var_8         0\n",
      "user_activity_var_9         0\n",
      "user_activity_var_10        0\n",
      "user_activity_var_11        0\n",
      "user_activity_var_12        0\n",
      "buy                         0\n",
      "dtype: int64\n",
      "\n",
      "Test dataset null values : id                         0\n",
      "created_at                 0\n",
      "campaign_var_1             0\n",
      "campaign_var_2             0\n",
      "products_purchased      8136\n",
      "signup_date             6649\n",
      "user_activity_var_1        0\n",
      "user_activity_var_2        0\n",
      "user_activity_var_3        0\n",
      "user_activity_var_4        0\n",
      "user_activity_var_5        0\n",
      "user_activity_var_6        0\n",
      "user_activity_var_7        0\n",
      "user_activity_var_8        0\n",
      "user_activity_var_9        0\n",
      "user_activity_var_10       0\n",
      "user_activity_var_11       0\n",
      "user_activity_var_12       0\n",
      "dtype: int64\n"
     ]
    }
   ],
   "source": [
    "print('\\nTrain dataset null values :', df_train.isnull().sum())\n",
    "print('\\nTest dataset null values :', df_test.isnull().sum())\n"
   ]
  },
  {
   "cell_type": "markdown",
   "id": "9c7bab91",
   "metadata": {},
   "source": [
    "### Feature Engineering"
   ]
  },
  {
   "cell_type": "code",
   "execution_count": 7,
   "id": "dc4a25f0",
   "metadata": {
    "ExecuteTime": {
     "end_time": "2022-06-05T13:16:49.113186Z",
     "start_time": "2022-06-05T13:16:49.101599Z"
    }
   },
   "outputs": [],
   "source": [
    "# Creating a new feature from the signup_date feature using isnull(), and changing the dtype to int\n",
    "df_train['signup_date_isnull']  = df_train['signup_date'].isnull().astype(int)\n",
    "df_test['signup_date_isnull']  = df_test['signup_date'].isnull().astype(int)"
   ]
  },
  {
   "cell_type": "code",
   "execution_count": 8,
   "id": "ee21fffd",
   "metadata": {
    "ExecuteTime": {
     "end_time": "2022-06-05T13:20:23.154706Z",
     "start_time": "2022-06-05T13:20:23.129602Z"
    }
   },
   "outputs": [],
   "source": [
    "# Here a new feature signup_month is extracted from the signup_date column\n",
    "df_train['signup_month'] = pd.to_datetime(df_train['signup_date']).dt.month\n",
    "df_test['signup_month'] = pd.to_datetime(df_test['signup_date']).dt.month"
   ]
  },
  {
   "cell_type": "markdown",
   "id": "b1d655ec",
   "metadata": {},
   "source": [
    "#### Filling the null values"
   ]
  },
  {
   "cell_type": "code",
   "execution_count": 9,
   "id": "59f6b265",
   "metadata": {
    "ExecuteTime": {
     "end_time": "2022-06-05T13:21:00.612003Z",
     "start_time": "2022-06-05T13:21:00.602126Z"
    }
   },
   "outputs": [],
   "source": [
    "# Filling the null values with mode\n",
    "df_train['signup_month'] = df_train['signup_month'].fillna(df_train['signup_month'].mode()[0])\n",
    "df_test['signup_month'] = df_test['signup_month'].fillna(df_train['signup_month'].mode()[0])"
   ]
  },
  {
   "cell_type": "markdown",
   "id": "b4cd3a9c",
   "metadata": {},
   "source": [
    "#### Changing datatype"
   ]
  },
  {
   "cell_type": "code",
   "execution_count": 10,
   "id": "31640ccc",
   "metadata": {
    "ExecuteTime": {
     "end_time": "2022-06-05T13:21:04.790761Z",
     "start_time": "2022-06-05T13:21:04.758241Z"
    }
   },
   "outputs": [],
   "source": [
    "# changing the dtype to datetime format\n",
    "\n",
    "df_train['created_at'] = pd.to_datetime(df_train.created_at)\n",
    "df_test['created_at'] = pd.to_datetime(df_test.created_at)"
   ]
  },
  {
   "cell_type": "code",
   "execution_count": 11,
   "id": "69e13d0e",
   "metadata": {
    "ExecuteTime": {
     "end_time": "2022-06-05T13:21:08.763252Z",
     "start_time": "2022-06-05T13:21:08.701713Z"
    }
   },
   "outputs": [],
   "source": [
    "# Extracting new features from the created_at column for both train and test dataset\n",
    "\n",
    "df_train['created_month'] = df_train['created_at'].dt.month\n",
    "df_train['created_week'] = df_train['created_at'].dt.isocalendar().week.astype(\"int64\")\n",
    "df_train['created_day'] = df_train['created_at'].dt.day\n",
    "\n",
    "df_test['created_month'] = df_test['created_at'].dt.month\n",
    "df_test['created_week'] = df_test['created_at'].dt.isocalendar().week.astype(\"int64\")\n",
    "df_test['created_day'] = df_test['created_at'].dt.day\n"
   ]
  },
  {
   "cell_type": "markdown",
   "id": "8be43c37",
   "metadata": {},
   "source": [
    "### Dropping unnecessary features"
   ]
  },
  {
   "cell_type": "code",
   "execution_count": 12,
   "id": "45bf353a",
   "metadata": {
    "ExecuteTime": {
     "end_time": "2022-06-05T13:21:12.873799Z",
     "start_time": "2022-06-05T13:21:12.834762Z"
    }
   },
   "outputs": [],
   "source": [
    "X_train = df_train.drop(['signup_date','buy', 'products_purchased',\n",
    "                         'created_at'], axis=1)\n",
    "X_test = df_test.drop(['signup_date','products_purchased',\n",
    "                       'created_at'], axis=1)\n",
    "y_train = df_train['buy']"
   ]
  },
  {
   "cell_type": "markdown",
   "id": "a40bd114",
   "metadata": {},
   "source": [
    "### Checking the null values again"
   ]
  },
  {
   "cell_type": "code",
   "execution_count": 13,
   "id": "95e8f7f3",
   "metadata": {},
   "outputs": [
    {
     "name": "stdout",
     "output_type": "stream",
     "text": [
      "\n",
      "Train dataset null values : id                          0\n",
      "created_at                  0\n",
      "campaign_var_1              0\n",
      "campaign_var_2              0\n",
      "products_purchased      20911\n",
      "signup_date             15113\n",
      "user_activity_var_1         0\n",
      "user_activity_var_2         0\n",
      "user_activity_var_3         0\n",
      "user_activity_var_4         0\n",
      "user_activity_var_5         0\n",
      "user_activity_var_6         0\n",
      "user_activity_var_7         0\n",
      "user_activity_var_8         0\n",
      "user_activity_var_9         0\n",
      "user_activity_var_10        0\n",
      "user_activity_var_11        0\n",
      "user_activity_var_12        0\n",
      "buy                         0\n",
      "signup_date_isnull          0\n",
      "signup_month                0\n",
      "created_month               0\n",
      "created_week                0\n",
      "created_day                 0\n",
      "dtype: int64\n",
      "\n",
      "Test dataset null values : id                         0\n",
      "created_at                 0\n",
      "campaign_var_1             0\n",
      "campaign_var_2             0\n",
      "products_purchased      8136\n",
      "signup_date             6649\n",
      "user_activity_var_1        0\n",
      "user_activity_var_2        0\n",
      "user_activity_var_3        0\n",
      "user_activity_var_4        0\n",
      "user_activity_var_5        0\n",
      "user_activity_var_6        0\n",
      "user_activity_var_7        0\n",
      "user_activity_var_8        0\n",
      "user_activity_var_9        0\n",
      "user_activity_var_10       0\n",
      "user_activity_var_11       0\n",
      "user_activity_var_12       0\n",
      "signup_date_isnull         0\n",
      "signup_month               0\n",
      "created_month              0\n",
      "created_week               0\n",
      "created_day                0\n",
      "dtype: int64\n"
     ]
    }
   ],
   "source": [
    "print('\\nTrain dataset null values :', df_train.isnull().sum())\n",
    "print('\\nTest dataset null values :', df_test.isnull().sum())\n"
   ]
  },
  {
   "cell_type": "markdown",
   "id": "51f5ead9",
   "metadata": {},
   "source": [
    "### Standardising the dataset"
   ]
  },
  {
   "cell_type": "code",
   "execution_count": 14,
   "id": "86ce2dcf",
   "metadata": {
    "ExecuteTime": {
     "end_time": "2022-06-05T13:21:49.242979Z",
     "start_time": "2022-06-05T13:21:49.201803Z"
    }
   },
   "outputs": [],
   "source": [
    "sc = StandardScaler()\n",
    "sc.fit(X_train)\n",
    "X_train_std = sc.transform(X_train)\n",
    "X_test_std = sc.transform(X_test)\n"
   ]
  },
  {
   "cell_type": "markdown",
   "id": "7c894e03",
   "metadata": {},
   "source": [
    "### Defining the model"
   ]
  },
  {
   "cell_type": "code",
   "execution_count": 15,
   "id": "f9ce0b33",
   "metadata": {
    "ExecuteTime": {
     "end_time": "2022-06-05T13:21:50.695000Z",
     "start_time": "2022-06-05T13:21:50.689455Z"
    }
   },
   "outputs": [],
   "source": [
    "\n",
    "model = xgb.XGBClassifier(n_estimators=1000, learning_rate=0.05,\n",
    "                           max_depth=4, random_state=1,\n",
    "                           use_label_encoder=True)"
   ]
  },
  {
   "cell_type": "markdown",
   "id": "4e70fc83",
   "metadata": {},
   "source": [
    "### Fitting the model"
   ]
  },
  {
   "cell_type": "code",
   "execution_count": 16,
   "id": "26ecb516",
   "metadata": {
    "ExecuteTime": {
     "end_time": "2022-06-05T13:22:18.877136Z",
     "start_time": "2022-06-05T13:21:52.228718Z"
    }
   },
   "outputs": [
    {
     "name": "stderr",
     "output_type": "stream",
     "text": [
      "/home/chinmayee/anaconda3/lib/python3.8/site-packages/xgboost/sklearn.py:1224: UserWarning: The use of label encoder in XGBClassifier is deprecated and will be removed in a future release. To remove this warning, do the following: 1) Pass option use_label_encoder=False when constructing XGBClassifier object; and 2) Encode your labels (y) as integers starting with 0, i.e. 0, 1, 2, ..., [num_class - 1].\n",
      "  warnings.warn(label_encoder_deprecation_msg, UserWarning)\n"
     ]
    },
    {
     "name": "stdout",
     "output_type": "stream",
     "text": [
      "[23:55:02] WARNING: ../src/learner.cc:1115: Starting in XGBoost 1.3.0, the default evaluation metric used with the objective 'binary:logistic' was changed from 'error' to 'logloss'. Explicitly set eval_metric if you'd like to restore the old behavior.\n",
      "XGboost train accuracy 0.734\n"
     ]
    }
   ],
   "source": [
    "clf = model.fit(X_train, y_train)\n",
    "\n",
    "y_train_pred = clf.predict(X_train)\n",
    "y_test = clf.predict(X_test)\n",
    "\n",
    "train_score = f1_score(y_train, y_train_pred)\n",
    "\n",
    "\n",
    "print(f'XGboost train accuracy 'f'{train_score:.3f}')"
   ]
  },
  {
   "cell_type": "code",
   "execution_count": 17,
   "id": "d3af9f38",
   "metadata": {
    "ExecuteTime": {
     "end_time": "2022-06-05T13:22:18.964209Z",
     "start_time": "2022-06-05T13:22:18.932163Z"
    }
   },
   "outputs": [],
   "source": [
    "Submission = pd.DataFrame({'id':df_test['id'].values})\n",
    "Submission['buy']=y_test\n"
   ]
  },
  {
   "cell_type": "markdown",
   "id": "c880f6fc",
   "metadata": {},
   "source": [
    "### Writing prediction to a csv file"
   ]
  },
  {
   "cell_type": "code",
   "execution_count": 18,
   "id": "21716d4f",
   "metadata": {
    "ExecuteTime": {
     "end_time": "2022-06-05T13:22:19.064314Z",
     "start_time": "2022-06-05T13:22:19.004343Z"
    }
   },
   "outputs": [],
   "source": [
    "Submission.to_csv('submission.csv', index=False)"
   ]
  },
  {
   "cell_type": "markdown",
   "id": "5600a971",
   "metadata": {},
   "source": [
    "## Approach"
   ]
  },
  {
   "cell_type": "markdown",
   "id": "f9fc3b6b",
   "metadata": {},
   "source": [
    "1. Extracted new features from the existing ones and filled up the null values.  THe new features are extracted from the created_at and signup_date feature. Changed the dtypes. \n",
    "2. Then dropped the unwanted features like products_purchased signed_up date etc.\n",
    "3. I have used the XGBoost classifier to train the model and predicted the output label. First I had used the RandomForest Classifier then LGBM, eventually I tried XGBoost which gave me better score.\n"
   ]
  }
 ],
 "metadata": {
  "kernelspec": {
   "display_name": "Python 3",
   "language": "python",
   "name": "python3"
  },
  "language_info": {
   "codemirror_mode": {
    "name": "ipython",
    "version": 3
   },
   "file_extension": ".py",
   "mimetype": "text/x-python",
   "name": "python",
   "nbconvert_exporter": "python",
   "pygments_lexer": "ipython3",
   "version": "3.8.8"
  }
 },
 "nbformat": 4,
 "nbformat_minor": 5
}
